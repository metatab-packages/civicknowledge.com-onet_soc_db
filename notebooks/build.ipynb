{
 "cells": [
  {
   "cell_type": "code",
   "execution_count": 1,
   "metadata": {},
   "outputs": [
    {
     "name": "stdout",
     "output_type": "stream",
     "text": [
      "env: RESEARCH_ROBOT_DEFAULT_CACHE=./_cache\n"
     ]
    }
   ],
   "source": [
    "%load_ext autoreload\n",
    "%autoreload 2\n",
    "\n",
    "import seaborn as sns\n",
    "import metapack as mp\n",
    "import pandas as pd\n",
    "import numpy as np\n",
    "import matplotlib.pyplot as plt\n",
    "from IPython.display import display \n",
    "\n",
    "from researchrobot.embeddings import run_embeddings\n",
    "from researchrobot import cache_dl, ObjectStore\n",
    "\n",
    "%matplotlib inline\n",
    "sns.set_context('notebook')\n",
    "mp.jupyter.init()\n",
    "\n",
    "%env RESEARCH_ROBOT_DEFAULT_CACHE ./_cache\n",
    "os_config = dict(class_='FSObjectStore', bucket='build', path='_cache')\n",
    "rc = ObjectStore.new(**os_config)\n",
    "\n"
   ]
  },
  {
   "cell_type": "code",
   "execution_count": 2,
   "metadata": {},
   "outputs": [
    {
     "data": {
      "text/html": [
       "<h1>O*NET SOC Database Data</h1>\n",
       "<p><code>civicknowledge.com-onet_soc_db-1.2.1</code> Last Update: 2023-09-22T17:54:54</p>\n",
       "<p><em>Embeddings and titles for O*Net SOC</em></p>\n",
       "<h2>Contacts</h2>\n",
       "<ul>\n",
       "<li><strong>Wrangler</strong> <a href=\"mailto:eric@civicknowledge.com\">Eric Busboom</a>, <a href=\"http://civicknowledge.com\">Civic Knowledge</a></li>\n",
       "</ul>\n",
       "<h2>Resources</h2>\n",
       "<ul>\n",
       "<li><strong><a href=\"notebooks/build.ipynb#titles\">titles</a></strong>. Extended job titles for SOC</li>\n",
       "<li><strong><a href=\"notebooks/build.ipynb#edf\">titles_edf</a></strong>. Embeddings of the job titles.</li>\n",
       "</ul>\n",
       "<h2>References</h2>\n",
       "<ul><li> <strong>soc_embed_pkg</string>, <em>index:civicknowledge.com-onet_soc-embed-2.3.8</em>. </li><li> <strong><a href=\"https://www.onetcenter.org/dl_files/database/db_27_3_excel/Occupation%20Data.xlsx\">onet_occ</a></strong>. ONet Occupation titles and descriptions</li><li> <strong><a href=\"https://www.onetcenter.org/dl_files/database/db_20_1_excel/Sample%20of%20Reported%20Titles.xlsx\">onet_rtitles</a></strong>. O*Net alternate reported titles</li><li> <strong><a href=\"https://www.onetcenter.org/dl_files/database/db_28_0_excel/Alternate%20Titles.xlsx\">onet_atitles</a></strong>. O*Net formal alternate titles</li><ul>"
      ],
      "text/plain": [
       "# O*NET SOC Database Data\n",
       "`civicknowledge.com-onet_soc_db-1.2.1` Last Update: 2023-09-22T17:54:54\n",
       "\n",
       "_Embeddings and titles for O*Net SOC_\n",
       "\n",
       "\n",
       "\n",
       "\n",
       " \n",
       "\n",
       "## Contacts\n",
       "\n",
       "* **Wrangler** [Eric Busboom](mailto:eric@civicknowledge.com), [Civic Knowledge](http://civicknowledge.com)\n",
       "\n",
       "## Resources\n",
       "\n",
       "* **[titles](notebooks/build.ipynb#titles)**. Extended job titles for SOC\n",
       "* **[titles_edf](notebooks/build.ipynb#edf)**. Embeddings of the job titles.\n",
       "\n",
       "## References\n",
       "<ul><li> <strong>soc_embed_pkg</string>, <em>index:civicknowledge.com-onet_soc-embed-2.3.8</em>. </li><li> <strong><a href=\"https://www.onetcenter.org/dl_files/database/db_27_3_excel/Occupation%20Data.xlsx\">onet_occ</a></strong>. ONet Occupation titles and descriptions</li><li> <strong><a href=\"https://www.onetcenter.org/dl_files/database/db_20_1_excel/Sample%20of%20Reported%20Titles.xlsx\">onet_rtitles</a></strong>. O*Net alternate reported titles</li><li> <strong><a href=\"https://www.onetcenter.org/dl_files/database/db_28_0_excel/Alternate%20Titles.xlsx\">onet_atitles</a></strong>. O*Net formal alternate titles</li><ul>\n"
      ]
     },
     "execution_count": 2,
     "metadata": {},
     "output_type": "execute_result"
    }
   ],
   "source": [
    "#pkg = mp.jupyter.open_package()\n",
    "pkg = mp.jupyter.open_source_package()\n",
    "\n",
    "pkg.set_sys_path()\n",
    "from pylib import *\n",
    "\n",
    "pkg"
   ]
  },
  {
   "cell_type": "code",
   "execution_count": 3,
   "metadata": {},
   "outputs": [
    {
     "name": "stdout",
     "output_type": "stream",
     "text": [
      "(60379, 2)\n"
     ]
    },
    {
     "data": {
      "text/html": [
       "<div>\n",
       "<style scoped>\n",
       "    .dataframe tbody tr th:only-of-type {\n",
       "        vertical-align: middle;\n",
       "    }\n",
       "\n",
       "    .dataframe tbody tr th {\n",
       "        vertical-align: top;\n",
       "    }\n",
       "\n",
       "    .dataframe thead th {\n",
       "        text-align: right;\n",
       "    }\n",
       "</style>\n",
       "<table border=\"1\" class=\"dataframe\">\n",
       "  <thead>\n",
       "    <tr style=\"text-align: right;\">\n",
       "      <th></th>\n",
       "      <th>soc</th>\n",
       "      <th>title</th>\n",
       "    </tr>\n",
       "  </thead>\n",
       "  <tbody>\n",
       "    <tr>\n",
       "      <th>0</th>\n",
       "      <td>11-1011.00</td>\n",
       "      <td>Chief Executives</td>\n",
       "    </tr>\n",
       "    <tr>\n",
       "      <th>62</th>\n",
       "      <td>11-1011.00</td>\n",
       "      <td>Public Works Commissioner</td>\n",
       "    </tr>\n",
       "    <tr>\n",
       "      <th>61</th>\n",
       "      <td>11-1011.00</td>\n",
       "      <td>Public Health Director</td>\n",
       "    </tr>\n",
       "    <tr>\n",
       "      <th>60</th>\n",
       "      <td>11-1011.00</td>\n",
       "      <td>Private Sector Executive</td>\n",
       "    </tr>\n",
       "    <tr>\n",
       "      <th>58</th>\n",
       "      <td>11-1011.00</td>\n",
       "      <td>Police Commissioner</td>\n",
       "    </tr>\n",
       "  </tbody>\n",
       "</table>\n",
       "</div>"
      ],
      "text/plain": [
       "           soc                      title\n",
       "0   11-1011.00           Chief Executives\n",
       "62  11-1011.00  Public Works Commissioner\n",
       "61  11-1011.00     Public Health Director\n",
       "60  11-1011.00   Private Sector Executive\n",
       "58  11-1011.00        Police Commissioner"
      ]
     },
     "execution_count": 3,
     "metadata": {},
     "output_type": "execute_result"
    }
   ],
   "source": [
    "spkg = pkg.reference('soc_embed_pkg').package\n",
    "\n",
    "occ_titles = pkg.reference('onet_occ').dataframe()\n",
    "occ_titles.columns = ['soc','title','desc']\n",
    "\n",
    "rep_titles = pkg.reference('onet_rtitles').dataframe()\n",
    "rep_titles.columns = ['soc', 'soc_title', 'other_title', 'show']\n",
    "\n",
    "alt_titles = pkg.reference('onet_atitles').dataframe()\n",
    "\n",
    "alt_titles.columns = ['soc','title','alt_title', 'short_title', 'source' ]\n",
    "\n",
    "titles = pd.concat([\n",
    "                    occ_titles[['soc','title']],\n",
    "                    rep_titles[['soc','soc_title']].rename(columns={'soc_title':'title'}), \n",
    "                    rep_titles[['soc','other_title']].rename(columns={'other_title':'title'}),\n",
    "                    alt_titles[['soc','title']],\n",
    "                    alt_titles[['soc','alt_title']].rename(columns={'alt_title':'title'}),\n",
    "                   ]).drop_duplicates().sort_values('soc')\n",
    "\n",
    "print(titles.shape)\n",
    "titles.head()"
   ]
  },
  {
   "cell_type": "code",
   "execution_count": 4,
   "metadata": {},
   "outputs": [
    {
     "name": "stdout",
     "output_type": "stream",
     "text": [
      "2 unmappable {'17-3029.09', '11-9039.01'}\n"
     ]
    },
    {
     "data": {
      "text/plain": [
       "58670"
      ]
     },
     "execution_count": 4,
     "metadata": {},
     "output_type": "execute_result"
    }
   ],
   "source": [
    "# These are soc codes that are in the alternate titles but are not in the main occupation codes\n",
    "# file, so they are old and should be removed or mapped to the new SOC\n",
    "del_titles = titles[~titles.soc.isin(occ_titles.soc.unique())]\n",
    "remain_titles = titles[titles.soc.isin(occ_titles.soc.unique())]\n",
    "\n",
    "# Map deleted entries to new soc with the same title\n",
    "t = del_titles.merge(remain_titles.rename(columns={'soc': 'new_soc'}), how = 'left', on='title')\n",
    "\n",
    "# Create a dict for the mapping\n",
    "soc_map = { r.soc:r.new_soc for idx, r in t[~t.new_soc.isnull()].iterrows() }\n",
    "\n",
    "rows = []\n",
    "unmappable = set()\n",
    "\n",
    "for idx, r in t[t.new_soc.isnull()].iterrows():\n",
    "    try:\n",
    "        rows.append({'soc': soc_map[r.soc], 'title': r.title})\n",
    "    except KeyError as e:\n",
    "        unmappable.add(r.soc)\n",
    "        \n",
    "print(len(unmappable), 'unmappable', unmappable)\n",
    "    \n",
    "titles = pd.concat([remain_titles, pd.DataFrame(rows)]).sort_values('soc')\n",
    "len(titles)"
   ]
  },
  {
   "cell_type": "code",
   "execution_count": 5,
   "metadata": {},
   "outputs": [
    {
     "data": {
      "text/plain": [
       "58672"
      ]
     },
     "execution_count": 5,
     "metadata": {},
     "output_type": "execute_result"
    }
   ],
   "source": [
    "# We need to add titles for 'Board of Directors' and 'Board Member', \n",
    "# linked to 11-1011.00, Chief Executives\n",
    "\n",
    "titles = pd.concat([ titles, pd.DataFrame([ \n",
    "    { 'soc': '11-1011.00', 'title': 'Board of Directors' },\n",
    "    { 'soc': '11-1011.00', 'title': 'Board Member' }\n",
    "])]).sort_values('soc')\n",
    "\n",
    "len(titles)\n"
   ]
  },
  {
   "cell_type": "code",
   "execution_count": 6,
   "metadata": {},
   "outputs": [],
   "source": [
    "def embed_and_cache(rc, key, df, text_col='text', progress=True, force=False):\n",
    "    if key in rc and force is False:\n",
    "        edf = rc[key]\n",
    "    else:\n",
    "        edf = run_embeddings(df, n_jobs=1, text_col=text_col, progress=progress)\n",
    "        rc[key] = edf\n",
    "\n",
    "    return edf\n",
    "\n",
    "if False:\n",
    "    \n",
    "    # If we ever need the embeddings. \n",
    "    \n",
    "    titles_edf = embed_and_cache(rc, 'titles',titles, text_col='title')\n",
    "\n",
    "    # Split the \"embeddings\" column into a separate DataFrame\n",
    "    edf = pd.DataFrame(titles_edf['embeddings'].tolist())\n",
    "\n",
    "    # Rename the columns of the new DataFrame\n",
    "    edf.columns = [f'e{i}' for i in range(len(edf.columns))]\n",
    "\n",
    "    edf"
   ]
  },
  {
   "cell_type": "code",
   "execution_count": 7,
   "metadata": {},
   "outputs": [],
   "source": [
    "del_titles = titles[~titles.soc.isin(occ_titles.soc.unique())]\n",
    "assert(len(del_titles) == 0)"
   ]
  },
  {
   "cell_type": "code",
   "execution_count": null,
   "metadata": {},
   "outputs": [],
   "source": []
  }
 ],
 "metadata": {
  "kernelspec": {
   "display_name": "Python 3 (ipykernel)",
   "language": "python",
   "name": "python3"
  },
  "language_info": {
   "codemirror_mode": {
    "name": "ipython",
    "version": 3
   },
   "file_extension": ".py",
   "mimetype": "text/x-python",
   "name": "python",
   "nbconvert_exporter": "python",
   "pygments_lexer": "ipython3",
   "version": "3.10.6"
  }
 },
 "nbformat": 4,
 "nbformat_minor": 4
}
